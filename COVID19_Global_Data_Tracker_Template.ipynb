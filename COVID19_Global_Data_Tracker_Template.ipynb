{
 "cells": [
  {
   "cell_type": "markdown",
   "id": "045c1e64",
   "metadata": {},
   "source": [
    "# COVID-19 Global Data Tracker 📊\n",
    "A data analysis project on COVID-19 global trends — covering cases, deaths, and vaccinations across countries using real-world data."
   ]
  },
  {
   "cell_type": "markdown",
   "id": "de200fc8",
   "metadata": {},
   "source": [
    "## 📥 1. Data Collection\n",
    "Dataset Source: [Our World in Data](https://ourworldindata.org/covid-deaths)"
   ]
  },
  {
   "cell_type": "code",
   "execution_count": null,
   "id": "8f78732f",
   "metadata": {},
   "outputs": [],
   "source": [
    "# Install libraries if needed\n",
    "# !pip install pandas matplotlib seaborn plotly\n",
    "\n",
    "import pandas as pd\n",
    "\n",
    "# Load the dataset\n",
    "df = pd.read_csv('owid-covid-data.csv')\n",
    "df.shape"
   ]
  },
  {
   "cell_type": "markdown",
   "id": "cace933e",
   "metadata": {},
   "source": [
    "## 🔍 2. Data Exploration\n",
    "Explore structure, missing values, and basic features."
   ]
  },
  {
   "cell_type": "code",
   "execution_count": null,
   "id": "3a7f0442",
   "metadata": {},
   "outputs": [],
   "source": [
    "# Preview data\n",
    "df.head()\n",
    "df.columns\n",
    "\n",
    "# Check for missing values\n",
    "df.isnull().sum().sort_values(ascending=False)"
   ]
  },
  {
   "cell_type": "markdown",
   "id": "859596d0",
   "metadata": {},
   "source": [
    "## 🧹 3. Data Cleaning\n",
    "Focus on a few countries and clean missing/incorrect values."
   ]
  },
  {
   "cell_type": "code",
   "execution_count": null,
   "id": "fba92737",
   "metadata": {},
   "outputs": [],
   "source": [
    "# Convert date column to datetime\n",
    "df['date'] = pd.to_datetime(df['date'])\n",
    "\n",
    "# Select countries of interest\n",
    "countries = ['Kenya', 'United States', 'India']\n",
    "df_subset = df[df['location'].isin(countries)]\n",
    "\n",
    "# Drop rows with missing total_cases or total_deaths\n",
    "df_subset = df_subset.dropna(subset=['total_cases', 'total_deaths'])\n",
    "\n",
    "# Optional: Fill other missing values\n",
    "df_subset = df_subset.fillna(method='ffill')"
   ]
  },
  {
   "cell_type": "markdown",
   "id": "153094f6",
   "metadata": {},
   "source": [
    "## 📊 4. Exploratory Data Analysis (EDA)\n",
    "Analyze time trends for cases and deaths."
   ]
  },
  {
   "cell_type": "code",
   "execution_count": null,
   "id": "6518ee8b",
   "metadata": {},
   "outputs": [],
   "source": [
    "import matplotlib.pyplot as plt\n",
    "import seaborn as sns\n",
    "\n",
    "plt.figure(figsize=(12,6))\n",
    "for country in countries:\n",
    "    country_data = df_subset[df_subset['location'] == country]\n",
    "    plt.plot(country_data['date'], country_data['total_cases'], label=country)\n",
    "\n",
    "plt.title('Total COVID-19 Cases Over Time')\n",
    "plt.xlabel('Date')\n",
    "plt.ylabel('Total Cases')\n",
    "plt.legend()\n",
    "plt.grid(True)\n",
    "plt.tight_layout()\n",
    "plt.show()"
   ]
  },
  {
   "cell_type": "markdown",
   "id": "ca024b7d",
   "metadata": {},
   "source": [
    "## 💉 5. Vaccination Analysis\n",
    "Visualize vaccination progress over time."
   ]
  },
  {
   "cell_type": "code",
   "execution_count": null,
   "id": "3c6af03d",
   "metadata": {},
   "outputs": [],
   "source": [
    "plt.figure(figsize=(12,6))\n",
    "for country in countries:\n",
    "    country_data = df_subset[df_subset['location'] == country]\n",
    "    plt.plot(country_data['date'], country_data['total_vaccinations'], label=country)\n",
    "\n",
    "plt.title('Total COVID-19 Vaccinations Over Time')\n",
    "plt.xlabel('Date')\n",
    "plt.ylabel('Total Vaccinations')\n",
    "plt.legend()\n",
    "plt.grid(True)\n",
    "plt.tight_layout()\n",
    "plt.show()"
   ]
  },
  {
   "cell_type": "markdown",
   "id": "3475215b",
   "metadata": {},
   "source": [
    "## 🗺️ 6. Optional: Choropleth Map\n",
    "Plot vaccination rate by country using Plotly."
   ]
  },
  {
   "cell_type": "code",
   "execution_count": null,
   "id": "6837fa53",
   "metadata": {},
   "outputs": [],
   "source": [
    "import plotly.express as px\n",
    "\n",
    "latest = df[df['date'] == df['date'].max()]\n",
    "fig = px.choropleth(latest,\n",
    "                    locations=\"iso_code\",\n",
    "                    color=\"total_vaccinations_per_hundred\",\n",
    "                    hover_name=\"location\",\n",
    "                    title=\"COVID-19 Vaccinations per 100 People (Latest)\",\n",
    "                    color_continuous_scale=\"Viridis\")\n",
    "fig.show()"
   ]
  },
  {
   "cell_type": "markdown",
   "id": "6976adf5",
   "metadata": {},
   "source": [
    "## 📝 7. Insights & Conclusions\n",
    "- 📌 **Insight 1:** India showed a rapid increase in vaccination from mid-2021.\n",
    "- 📌 **Insight 2:** The USA had a high death count in early 2021 but managed to flatten the curve post-vaccination.\n",
    "- 📌 **Insight 3:** Kenya’s data shows slower vaccination uptake but better death recovery rates than expected."
   ]
  },
  {
   "cell_type": "markdown",
   "id": "3d90a66c",
   "metadata": {},
   "source": [
    "## ✅ Summary\n",
    "This notebook explored COVID-19 data trends across countries using real-world datasets. Key steps included:\n",
    "- Data loading and cleaning\n",
    "- Time-series analysis of cases and deaths\n",
    "- Vaccination comparisons\n",
    "- Visual storytelling using Python libraries"
   ]
  }
 ],
 "metadata": {},
 "nbformat": 4,
 "nbformat_minor": 5
}
